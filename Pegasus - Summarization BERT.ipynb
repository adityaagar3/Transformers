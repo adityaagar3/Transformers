{
 "cells": [
  {
   "cell_type": "code",
   "execution_count": 1,
   "id": "e84edf59",
   "metadata": {},
   "outputs": [],
   "source": [
    "from transformers import PegasusTokenizer, PegasusForConditionalGeneration, TFPegasusForConditionalGeneration"
   ]
  },
  {
   "cell_type": "code",
   "execution_count": 5,
   "id": "5e956097",
   "metadata": {},
   "outputs": [],
   "source": [
    "# !pip install sentencepiece\n",
    "# !pip install ipywidgets\n",
    "# !pip3 install ipywidgets --user\n",
    "# !jupyter nbextension enable --py widgetsnbextension"
   ]
  },
  {
   "cell_type": "code",
   "execution_count": 2,
   "id": "764200c2",
   "metadata": {},
   "outputs": [
    {
     "name": "stderr",
     "output_type": "stream",
     "text": [
      "All model checkpoint layers were used when initializing TFPegasusForConditionalGeneration.\n",
      "\n",
      "All the layers of TFPegasusForConditionalGeneration were initialized from the model checkpoint at human-centered-summarization/financial-summarization-pegasus.\n",
      "If your task is similar to the task the model of the checkpoint was trained on, you can already use TFPegasusForConditionalGeneration for predictions without further training.\n"
     ]
    }
   ],
   "source": [
    "# Let's load the model and the tokenizer \n",
    "model_name = \"human-centered-summarization/financial-summarization-pegasus\"\n",
    "tokenizer = PegasusTokenizer.from_pretrained(model_name)\n",
    "model = TFPegasusForConditionalGeneration.from_pretrained(model_name) # If you want to use the Tensorflow model \n",
    "                                                                    # just replace with TFPegasusForConditionalGeneration\n",
    "\n",
    "\n",
    "# Some text to summarize here\n",
    "text_to_summarize = '''National Commercial Bank (NCB), Saudi Arabia’s largest lender by assets, agreed to buy rival\n",
    "Samba Financial Group for $15 billion in the biggest banking takeover this year.NCB will pay 28.45 riyals ($7.58)\n",
    "for each Samba share, according to a statement on Sunday, valuing it at about 55.7 billion riyals.\n",
    "NCB will offer 0.739 new shares for each Samba share, at the lower end of the 0.736-0.787 ratio the banks\n",
    "set when they signed an initial framework agreement in June.The offer is a 3.5% premium to\n",
    "Samba’s Oct. 8 closing price of 27.50 riyals and about 24% higher than the level the shares traded at before the talks\n",
    "were made public. Bloomberg News first reported the merger discussions.The new bank will have total assets of more than\n",
    "$220 billion, creating the Gulf region’s third-largest lender. The entity’s $46 billion market capitalization nearly matches\n",
    "that of Qatar National Bank QPSC, which is still the Middle East’s biggest lender with about $268 billion of assets.'''\n",
    "\n",
    "# Tokenize our text\n",
    "# If you want to run the code in Tensorflow, please remember to return the particular tensors as simply as using return_tensors = 'tf'\n",
    "input_ids = tokenizer(text_to_summarize, return_tensors=\"tf\").input_ids\n",
    "\n",
    "# Generate the output (Here, we use beam search but you can also use any other strategy you like)\n",
    "output = model.generate(\n",
    "    input_ids, \n",
    "    max_length=32, \n",
    "    num_beams=5, \n",
    "    early_stopping=True\n",
    ")\n"
   ]
  },
  {
   "cell_type": "code",
   "execution_count": 3,
   "id": "7bcab99a",
   "metadata": {},
   "outputs": [
    {
     "name": "stdout",
     "output_type": "stream",
     "text": [
      "Saudi Arabia’s Samba Commercial Bank to buy rival. Deal will create Middle East’s third-largest lender\n"
     ]
    }
   ],
   "source": [
    "\n",
    "# Finally, we can print the generated summary\n",
    "print(tokenizer.decode(output[0], skip_special_tokens=True))\n",
    "# Generated Output: Saudi bank to pay a 3.5% premium to Samba share price. Gulf region’s third-largest lender will have total assets of $220 billion"
   ]
  },
  {
   "cell_type": "code",
   "execution_count": 5,
   "id": "1bff770a",
   "metadata": {},
   "outputs": [
    {
     "data": {
      "text/plain": [
       "<tf.Tensor: shape=(23,), dtype=int32, numpy=\n",
       "array([    0,  6794,  9223,   123,   116, 43311,  5761,  2039,   112,\n",
       "         631,  9336,   107, 10924,   138,   421,  3396,  1445,   123,\n",
       "         116,   776,   121, 22504,  7670])>"
      ]
     },
     "execution_count": 5,
     "metadata": {},
     "output_type": "execute_result"
    }
   ],
   "source": [
    "output[0]"
   ]
  },
  {
   "cell_type": "code",
   "execution_count": 4,
   "id": "25f52d7a",
   "metadata": {},
   "outputs": [
    {
     "data": {
      "text/plain": [
       "<tf.Tensor: shape=(1, 214), dtype=int32, numpy=\n",
       "array([[  765,  5761,  2039,   143, 78622,   312,  6794,  9223,   123,\n",
       "          116,  1368,  7670,   141,  2718,   108,  3156,   112,   631,\n",
       "         9336, 43311,  3650,  1260,   118,  9009,  1722,   115,   109,\n",
       "         1715,  4731, 22433,   136,   232,   107, 78622,   138,   626,\n",
       "          280, 83377,   110, 29976, 13695, 52876,   107, 14623,   158,\n",
       "          118,   276, 43311,   537,   108,   992,   112,   114,  1736,\n",
       "          124,  1342,   108, 46422,   126,   134,   160,   371, 36630,\n",
       "         1722,   110, 29976, 13695,   107,   110, 78622,   138,   369,\n",
       "        20205, 11349,   177,  2853,   118,   276, 43311,   537,   108,\n",
       "          134,   109,  1074,   370,   113,   109, 20205,  9368, 17988,\n",
       "          107, 53172,  4641,   109,  3216,   323,   173,   157,  2442,\n",
       "          142,  2061,  3772,  2158,   115,  1185,   107,   159,   369,\n",
       "          117,   114, 52700,  2572,   112, 43311,   123,   116,  5177,\n",
       "          107,   608,  3977,   469,   113,   280, 46452,   110, 29976,\n",
       "        13695,   111,   160, 36884,   902,   197,   109,   476,   109,\n",
       "         2853,  9216,   134,   269,   109,  3935,   195,   266,   481,\n",
       "          107, 15742,  2380,   211,  1668,   109, 12780,  5051,   107,\n",
       "          159,   177,  1679,   138,   133,   916,  2718,   113,   154,\n",
       "          197, 80233,  1722,   108,  1125,   109,  7175,  1322,   123,\n",
       "          116,   776,   121, 22504,  7670,   107,   139,  6330,   123,\n",
       "          116, 50439,  1722,   407, 30390,  1517,  3637,   120,   113,\n",
       "        12746,   765,  2039,  2706, 31679,   108,   162,   117,   309,\n",
       "          109,  3396,  1445,   123,   116,  1715,  7670,   122,   160,\n",
       "        28539,  2000,  1722,   113,  2718,   107,     1]])>"
      ]
     },
     "execution_count": 4,
     "metadata": {},
     "output_type": "execute_result"
    }
   ],
   "source": [
    "input_ids"
   ]
  }
 ],
 "metadata": {
  "kernelspec": {
   "display_name": "Python 3",
   "language": "python",
   "name": "python3"
  },
  "language_info": {
   "codemirror_mode": {
    "name": "ipython",
    "version": 3
   },
   "file_extension": ".py",
   "mimetype": "text/x-python",
   "name": "python",
   "nbconvert_exporter": "python",
   "pygments_lexer": "ipython3",
   "version": "3.6.8"
  }
 },
 "nbformat": 4,
 "nbformat_minor": 5
}
